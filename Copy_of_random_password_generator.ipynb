{
  "nbformat": 4,
  "nbformat_minor": 0,
  "metadata": {
    "colab": {
      "name": "Copy of random_password_generator.ipynb",
      "provenance": [],
      "authorship_tag": "ABX9TyOQgni2F1b1yN2i29dWexuC",
      "include_colab_link": true
    },
    "kernelspec": {
      "name": "python3",
      "display_name": "Python 3"
    }
  },
  "cells": [
    {
      "cell_type": "markdown",
      "metadata": {
        "id": "view-in-github",
        "colab_type": "text"
      },
      "source": [
        "<a href=\"https://colab.research.google.com/github/gemp2/my-project-as-a-beginner/blob/main/Copy_of_random_password_generator.ipynb\" target=\"_parent\"><img src=\"https://colab.research.google.com/assets/colab-badge.svg\" alt=\"Open In Colab\"/></a>"
      ]
    },
    {
      "cell_type": "markdown",
      "metadata": {
        "id": "A-sDOprealEe"
      },
      "source": [
        "**Random Password Generator**\n",
        "\n",
        "Each time the program is run, a new password will be generated randomly. The passwords generated will be 8 characters long and will have to include the following characters in randomly order:\n",
        "\n",
        "2 uppercase letters from A to Z,\n",
        "\n",
        "2 lowercase letters from a to z,\n",
        "\n",
        "2 digits from 0 to 9,\n",
        "\n",
        "2 punctuation signs such as !, ?, “, # etc."
      ]
    },
    {
      "cell_type": "code",
      "metadata": {
        "colab": {
          "base_uri": "https://localhost:8080/"
        },
        "id": "kWvNofqaaah0",
        "outputId": "22b8e73e-7105-46e8-a3c2-4ac8482a9872"
      },
      "source": [
        "#import the random package that contains the functions I need to generate numbers randomly \n",
        "import random as rnd\n",
        "\n",
        "\n",
        "#Generate a random Uppercase letter (based on ASCII code https://www.101computing.net/wp/wp-content/uploads/ASCII-Table.pdf)\n",
        "#with the function chr() we have the character that represents the specified unicode (the integer number generate random corresponding an ASCII character)\n",
        "uppercaseLetter1=chr(rnd.randint(65,90)) \n",
        "uppercaseLetter2=chr(rnd.randint(65,90)) \n",
        "\n",
        "\n",
        "#Generate a random Lowercase letter\n",
        "lowercaseLetter1=chr(rnd.randint(97,122)) \n",
        "lowercaseLetter2=chr(rnd.randint(97,122))\n",
        "\n",
        "\n",
        "#Generate a random number between 0 and 9\n",
        "digit1=chr(rnd.randint(48,57)) \n",
        "digit2=chr(rnd.randint(48,57))\n",
        "\n",
        "\n",
        "#Generate a random punctuation sign\n",
        "punctuationSigns1=chr(rnd.randint(33,47)) \n",
        "punctuationSigns2=chr(rnd.randint(33,47))\n",
        "\n",
        "\n",
        "#Create the variable password doing the addiction of all characters I have generate randomly and this variable is str type\n",
        "password_chr = uppercaseLetter1 + uppercaseLetter2 + lowercaseLetter1 + lowercaseLetter2 + digit1 + digit2 + punctuationSigns1 + punctuationSigns2 \n",
        "\n",
        "#change the type from str to list, so I can use the shuffle function present in random package\n",
        "password_list = list(password_chr) \n",
        "\n",
        "#change the order of the characters in the password randomly\n",
        "rnd.shuffle(password_list) \n",
        "\n",
        "#join all characters of the password_list, so now the variable password is a unique string.\n",
        "password = \"\".join(password_list) \n",
        "\n",
        "#print the password generated\n",
        "print(password)"
      ],
      "execution_count": null,
      "outputs": [
        {
          "output_type": "stream",
          "text": [
            "k\"A5Gb4+\n"
          ],
          "name": "stdout"
        }
      ]
    }
  ]
}