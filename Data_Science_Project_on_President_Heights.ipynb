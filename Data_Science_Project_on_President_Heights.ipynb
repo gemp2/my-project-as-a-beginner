{
  "nbformat": 4,
  "nbformat_minor": 0,
  "metadata": {
    "colab": {
      "name": "Data Science Project on President Heights.ipynb",
      "provenance": [],
      "mount_file_id": "1kmFNjJLgnCJHNXVX1daodzRkaSHdb74z",
      "authorship_tag": "ABX9TyPB+zgIbw7uZDKZTNbZJWnu",
      "include_colab_link": true
    },
    "kernelspec": {
      "name": "python3",
      "display_name": "Python 3"
    }
  },
  "cells": [
    {
      "cell_type": "markdown",
      "metadata": {
        "id": "view-in-github",
        "colab_type": "text"
      },
      "source": [
        "<a href=\"https://colab.research.google.com/github/gemp2/my-project-as-a-beginner/blob/main/Data_Science_Project_on_President_Heights.ipynb\" target=\"_parent\"><img src=\"https://colab.research.google.com/assets/colab-badge.svg\" alt=\"Open In Colab\"/></a>"
      ]
    },
    {
      "cell_type": "markdown",
      "metadata": {
        "id": "clmotw8W5q0_"
      },
      "source": [
        "**Data Science Project on President Heights**\n",
        "\n",
        "\n",
        "Data Science project for Beginners on US-President Height using python from [this page](https://thecleverprogrammer.com/2020/05/08/data-science-project-on-president-heights/).\n",
        "\n",
        "I have changed the visualisation of the data in the last part of this exercise, using subplots method of pyplot maplotlib sub-package."
      ]
    },
    {
      "cell_type": "code",
      "metadata": {
        "colab": {
          "base_uri": "https://localhost:8080/"
        },
        "id": "oDwDOTNmQjP2",
        "outputId": "2e44cc7c-2f02-4bab-b9ab-611fd4b26430"
      },
      "source": [
        "import pandas as pd\n",
        "\n",
        "president_heights = pd.read_csv(\"/content/president_heights.csv\", skiprows=1, names=[\"name\", \"height\"])\n",
        "#president_heights.set_index(\"order\")\n",
        "print(president_heights.head())"
      ],
      "execution_count": 4,
      "outputs": [
        {
          "output_type": "stream",
          "text": [
            "                name  height\n",
            "1  George Washington     189\n",
            "2         John Adams     170\n",
            "3   Thomas Jefferson     189\n",
            "4      James Madison     163\n",
            "5       James Monroe     183\n"
          ],
          "name": "stdout"
        }
      ]
    },
    {
      "cell_type": "code",
      "metadata": {
        "colab": {
          "base_uri": "https://localhost:8080/"
        },
        "id": "b7iAF6xIVdkY",
        "outputId": "27eb86aa-ab7e-453d-ade8-14b19f11493d"
      },
      "source": [
        "import numpy as np\n",
        "height = np.array(president_heights[\"height\"])\n",
        "print(height)"
      ],
      "execution_count": 5,
      "outputs": [
        {
          "output_type": "stream",
          "text": [
            "[189 170 189 163 183 171 185 168 173 183 173 173 175 178 183 193 178 173\n",
            " 174 183 183 168 170 178 182 180 183 178 182 188 175 179 183 193 182 183\n",
            " 177 185 188 188 182 185]\n"
          ],
          "name": "stdout"
        }
      ]
    },
    {
      "cell_type": "code",
      "metadata": {
        "colab": {
          "base_uri": "https://localhost:8080/"
        },
        "id": "BPQnFSaRXVX3",
        "outputId": "9a771a2b-c63e-414c-ac48-aaa9510382de"
      },
      "source": [
        "print(\"Mean of heights =\", height.mean())\n",
        "print(\"Standard Deviation of height =\", height.std())\n",
        "print(\"Minimum height =\", height.min())\n",
        "print(\"Maximum height =\", height.max())"
      ],
      "execution_count": 6,
      "outputs": [
        {
          "output_type": "stream",
          "text": [
            "Mean of heights = 179.73809523809524\n",
            "Standard Deviation of height = 6.931843442745892\n",
            "Minimum height = 163\n",
            "Maximum height = 193\n"
          ],
          "name": "stdout"
        }
      ]
    },
    {
      "cell_type": "code",
      "metadata": {
        "colab": {
          "base_uri": "https://localhost:8080/"
        },
        "id": "0Q8Nz6KaXgLZ",
        "outputId": "aa2df01d-8fd7-4176-d980-6cde96725cf1"
      },
      "source": [
        "print(\"25th percentile =\", np.percentile(height, 25))\n",
        "print(\"Median =\", np.median(height))\n",
        "print(\"75th percentile =\", np.percentile(height, 75))"
      ],
      "execution_count": 7,
      "outputs": [
        {
          "output_type": "stream",
          "text": [
            "25th percentile = 174.25\n",
            "Median = 182.0\n",
            "75th percentile = 183.0\n"
          ],
          "name": "stdout"
        }
      ]
    },
    {
      "cell_type": "code",
      "metadata": {
        "colab": {
          "base_uri": "https://localhost:8080/",
          "height": 295
        },
        "id": "iyH_YAEDXvpC",
        "outputId": "3daf4084-5f67-4d8f-af54-88b59b46040b"
      },
      "source": [
        "import matplotlib.pyplot as plt\n",
        "\n",
        "fig, ax = plt.subplots()\n",
        "\n",
        "ax.hist(height, label=\"Height\", bins=[150, 160, 170, 180, 190, 200])\n",
        "ax.set_title(\"Height Distribution of Presidents of USA\")\n",
        "ax.set_xlabel(\"height(cm)\")\n",
        "ax.set_ylabel(\"Number\")\n",
        "\n",
        "ax.legend()\n",
        "plt.show()"
      ],
      "execution_count": 8,
      "outputs": [
        {
          "output_type": "display_data",
          "data": {
            "image/png": "[encoded data removed]",
            "text/plain": [
              "<Figure size 432x288 with 1 Axes>"
            ]
          },
          "metadata": {
            "tags": [],
            "needs_background": "light"
          }
        }
      ]
    },
    {
      "cell_type": "code",
      "metadata": {
        "colab": {
          "base_uri": "https://localhost:8080/",
          "height": 295
        },
        "id": "KlEKouOj9S3H",
        "outputId": "b9f1ef26-039e-4fca-b4e6-b79e8fe020ee"
      },
      "source": [
        "fig, ax = plt.subplots()\n",
        "\n",
        "ax.bar(\"height\", height.mean(), yerr=height.std())\n",
        "ax.set_title(\"Height Distribution of Presidents of USA\")\n",
        "ax.set_xlabel(\"height(cm)\")\n",
        "ax.set_ylabel(\"Number\")\n",
        "\n",
        "plt.show()"
      ],
      "execution_count": 11,
      "outputs": [
        {
          "output_type": "display_data",
          "data": {
            "image/png": "[encoded data removed]",
            "text/plain": [
              "<Figure size 432x288 with 1 Axes>"
            ]
          },
          "metadata": {
            "tags": [],
            "needs_background": "light"
          }
        }
      ]
    },
    {
      "cell_type": "code",
      "metadata": {
        "colab": {
          "base_uri": "https://localhost:8080/",
          "height": 295
        },
        "id": "-dA7sXQe-GH8",
        "outputId": "5319a6d0-17ed-4df0-9bf6-1eb21dc25a51"
      },
      "source": [
        "fig, ax = plt.subplots()\n",
        "\n",
        "ax.boxplot(height)\n",
        "ax.set_title(\"Height Distribution of Presidents of USA\")\n",
        "ax.set_xlabel(\"height(cm)\")\n",
        "ax.set_ylabel(\"Number\")\n",
        "\n",
        "plt.show()"
      ],
      "execution_count": 12,
      "outputs": [
        {
          "output_type": "display_data",
          "data": {
            "image/png": "[encoded data removed]",
            "text/plain": [
              "<Figure size 432x288 with 1 Axes>"
            ]
          },
          "metadata": {
            "tags": [],
            "needs_background": "light"
          }
        }
      ]
    }
  ]
}