{
  "nbformat": 4,
  "nbformat_minor": 0,
  "metadata": {
    "colab": {
      "name": "Guess The Number.ipynb",
      "provenance": [],
      "authorship_tag": "ABX9TyPb4o3SVP2nuxOlkok1vLum",
      "include_colab_link": true
    },
    "kernelspec": {
      "name": "python3",
      "display_name": "Python 3"
    }
  },
  "cells": [
    {
      "cell_type": "markdown",
      "metadata": {
        "id": "view-in-github",
        "colab_type": "text"
      },
      "source": [
        "<a href=\"https://colab.research.google.com/github/gemp2/my-project-as-a-beginner/blob/main/Guess_The_Number.ipynb\" target=\"_parent\"><img src=\"https://colab.research.google.com/assets/colab-badge.svg\" alt=\"Open In Colab\"/></a>"
      ]
    },
    {
      "cell_type": "markdown",
      "metadata": {
        "id": "dm6uQF2SEarf"
      },
      "source": [
        "***Guess The Number***\n",
        "\n",
        "This is a game in which the user have to guess a number between 1 to 10 in 5 attempts. "
      ]
    },
    {
      "cell_type": "code",
      "metadata": {
        "id": "iXi8fZhrEZIJ"
      },
      "source": [
        "import random\n",
        "\n",
        "print(\"Hello! Welcome into Guess The Number! I am guessing a number between 1 and 10.\")\n",
        "print(\"Think a number and write here, good luck!\")\n",
        "\n",
        "number = random.randint(1, 10)  #generate a integer number [1,10]\n",
        "number_of_guesses = 0 #initialise the number of guesses\n",
        "\n",
        "while number_of_guesses < 5:  #the while loop needs to stop the game at 5 attempts\n",
        "    guess = int(input()) #the funcion input() take the number write by the user\n",
        "    number_of_guesses += 1 #iteration on the number of guesses\n",
        "    if guess < number:\n",
        "        print('No! Your number is too low. Think a other number and write here:  ')\n",
        "    if guess > number:\n",
        "        print('No! Your number is too high. Think a other number and write here: ')\n",
        "    if guess == number:\n",
        "        break\n",
        "if guess == number:\n",
        "    print('Yes! You guessed the number in ' + str(number_of_guesses) + ' tries!')\n",
        "else:\n",
        "    print('I am sorry, you did not guess the number. The number was ' + str(number))"
      ],
      "execution_count": null,
      "outputs": []
    }
  ]
}